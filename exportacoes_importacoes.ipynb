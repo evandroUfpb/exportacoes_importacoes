{
 "cells": [
  {
   "cell_type": "code",
   "execution_count": 2,
   "metadata": {},
   "outputs": [],
   "source": [
    "import pandas as pd\n",
    "import numpy as np\n",
    "import matplotlib.pyplot as plt\n",
    "import seaborn as sns"
   ]
  },
  {
   "cell_type": "markdown",
   "metadata": {},
   "source": [
    "### Exportações e Importações do Brasil, Nordeste e Paraíba  "
   ]
  },
  {
   "cell_type": "code",
   "execution_count": 3,
   "metadata": {},
   "outputs": [],
   "source": [
    "# Importação da tabelas de apoio para criação dos data frames\n",
    "from dados_localidade import paises, estados, cat_economica, ncm "
   ]
  },
  {
   "cell_type": "code",
   "execution_count": 4,
   "metadata": {},
   "outputs": [],
   "source": [
    "import os, ssl\n",
    "if (not os.environ.get('PYTHONHTTPSVERIFY', '') and\n",
    "getattr(ssl, '_create_unverified_context', None)):\n",
    "    ssl._create_default_https_context = ssl._create_unverified_context"
   ]
  },
  {
   "cell_type": "code",
   "execution_count": 5,
   "metadata": {},
   "outputs": [],
   "source": [
    "# Fonte: http://comexstat.mdic.gov.br/en/home\n",
    "#https://github.com/rahulkotecha2000/Python/blob/Python/AWP_project.ipynb\n",
    "# Criando os dataframes iniciais\n",
    "dt_paises = paises() # tabela com os países com relações comerciais com o Brasil no período em análise\n",
    "dt_estados = estados() # tabela com as Unidades da Federação que mantiveram relações comerciais com o setor externo\n",
    "df_cat_economica = cat_economica() # tabela com a classificação por Grandes Categorias Econômicas das exportações/importações\n",
    "df_ncm = ncm() # tabela com a identificação do tipo de exportação/importação. Nomenclarura comum no Mercosul"
   ]
  },
  {
   "cell_type": "markdown",
   "metadata": {},
   "source": [
    "### 1 Tratamento dos dados"
   ]
  },
  {
   "cell_type": "code",
   "execution_count": 6,
   "metadata": {},
   "outputs": [],
   "source": [
    "# Excluir as linhas com valores 'ED' e 'EX' da coluna SG_UF (dt_estados), por não manter relação com os data frames relacionados...\n",
    "dt_estados.drop(dt_estados.query(\"SG_UF in ['ED', 'EX']\").index, inplace=True) "
   ]
  },
  {
   "cell_type": "code",
   "execution_count": 7,
   "metadata": {},
   "outputs": [],
   "source": [
    "# ressetar o indice da tabela df_ncm\n",
    "df_ncm = df_ncm.reset_index()"
   ]
  },
  {
   "cell_type": "code",
   "execution_count": 8,
   "metadata": {},
   "outputs": [],
   "source": [
    "# marge dos dataframes cat_economica com df_ncm,\n",
    "df_cat_economica = pd.merge(df_cat_economica, df_ncm, on='CO_CGCE_N3')"
   ]
  },
  {
   "cell_type": "markdown",
   "metadata": {},
   "source": [
    "## 2 Exportações"
   ]
  },
  {
   "cell_type": "code",
   "execution_count": 9,
   "metadata": {},
   "outputs": [],
   "source": [
    "# Criando um data frame com as exportações\n",
    "\n",
    "from dados_localidade import exportacoes\n",
    "df_exportacoes = exportacoes()"
   ]
  },
  {
   "cell_type": "code",
   "execution_count": 10,
   "metadata": {},
   "outputs": [],
   "source": [
    "# Merge df_exportaces com a tabela de país para pegar os valores exportados para cada país\n",
    "df_exportacoes = pd.merge(df_exportacoes, dt_paises, on='CO_PAIS')"
   ]
  },
  {
   "cell_type": "code",
   "execution_count": 11,
   "metadata": {},
   "outputs": [],
   "source": [
    "# Renomear a coluna SG_UF_NCM\n",
    "df_exportacoes.rename(columns={'SG_UF_NCM':'SG_UF'}, inplace=True)"
   ]
  },
  {
   "cell_type": "code",
   "execution_count": 12,
   "metadata": {},
   "outputs": [],
   "source": [
    "# Merge df_exportacoes com a tebela estados para pegar o valor exportado por UF\n",
    "df_exportacoes = pd.merge(df_exportacoes, dt_estados, on='SG_UF')"
   ]
  },
  {
   "cell_type": "code",
   "execution_count": 13,
   "metadata": {},
   "outputs": [],
   "source": [
    "# marge dos dataframes df_exportacoes_pais_regiao e  df_ncm_cat_econ\n",
    "df_exportacoes = pd.merge(df_cat_economica, df_exportacoes, on='CO_NCM')"
   ]
  },
  {
   "cell_type": "markdown",
   "metadata": {},
   "source": [
    "### 2.1 Gráficos das Exportações"
   ]
  },
  {
   "cell_type": "markdown",
   "metadata": {},
   "source": [
    "#### 2.1.1 Exportações do Brasil "
   ]
  },
  {
   "cell_type": "markdown",
   "metadata": {},
   "source": [
    "##### 2.1.1.1 Valor corrente (US$ FOB) para o período de 2012 a 2021  "
   ]
  },
  {
   "cell_type": "code",
   "execution_count": 14,
   "metadata": {},
   "outputs": [
    {
     "data": {
      "image/png": "[encoded data removed]",
      "text/plain": [
       "<Figure size 800x400 with 1 Axes>"
      ]
     },
     "metadata": {
      "needs_background": "light"
     },
     "output_type": "display_data"
    }
   ],
   "source": [
    "df = df_exportacoes.groupby([\"CO_ANO\"])['VL_FOB'].sum().reset_index()\n",
    "fig, ax = plt.subplots(figsize=(10,5), dpi=80)\n",
    "x = df['CO_ANO']\n",
    "y = df['VL_FOB']\n",
    "ax.bar(x, y, color='#1E90FF')\n",
    "plt.title('Exportações Brasil: Valor corrente 2012 a 2021 - (US$ FOB)')\n",
    "plt.savefig('grafico/brasil_geral.png', format='png')\n",
    "plt.show()"
   ]
  },
  {
   "cell_type": "code",
   "execution_count": 15,
   "metadata": {},
   "outputs": [
    {
     "data": {
      "text/plain": [
       "CO_ANO\n",
       "2012    239.952.538.158\n",
       "2013    232.544.255.606\n",
       "2014    220.923.236.838\n",
       "2015    186.782.355.063\n",
       "2016    179.526.129.214\n",
       "2017    214.988.108.353\n",
       "2018    231.889.523.399\n",
       "2019    221.126.807.647\n",
       "2020    209.180.241.655\n",
       "2021    280.814.577.460\n",
       "Name: VL_FOB, dtype: object"
      ]
     },
     "execution_count": 15,
     "metadata": {},
     "output_type": "execute_result"
    }
   ],
   "source": [
    "df_exportacoes.groupby([\"CO_ANO\"])['VL_FOB'].sum().apply(lambda x: \"{:,}\".format(x).replace(',','.'))"
   ]
  },
  {
   "cell_type": "markdown",
   "metadata": {},
   "source": []
  },
  {
   "cell_type": "markdown",
   "metadata": {},
   "source": [
    "##### 2.1.1.2 Valor corrente (US$ FOB) por Grande Categoria Econômica: As dez maires em 2021"
   ]
  },
  {
   "cell_type": "code",
   "execution_count": 16,
   "metadata": {},
   "outputs": [
    {
     "data": {
      "text/html": [
       "<div>\n",
       "<style scoped>\n",
       "    .dataframe tbody tr th:only-of-type {\n",
       "        vertical-align: middle;\n",
       "    }\n",
       "\n",
       "    .dataframe tbody tr th {\n",
       "        vertical-align: top;\n",
       "    }\n",
       "\n",
       "    .dataframe thead th {\n",
       "        text-align: right;\n",
       "    }\n",
       "</style>\n",
       "<table border=\"1\" class=\"dataframe\">\n",
       "  <thead>\n",
       "    <tr style=\"text-align: right;\">\n",
       "      <th></th>\n",
       "      <th>NO_CGCE_N3</th>\n",
       "      <th>VL_FOB</th>\n",
       "    </tr>\n",
       "  </thead>\n",
       "  <tbody>\n",
       "    <tr>\n",
       "      <th>0</th>\n",
       "      <td>Insumos industriais elaborados</td>\n",
       "      <td>65.250.569.196</td>\n",
       "    </tr>\n",
       "    <tr>\n",
       "      <th>1</th>\n",
       "      <td>Insumos industriais básicos</td>\n",
       "      <td>56.913.749.770</td>\n",
       "    </tr>\n",
       "    <tr>\n",
       "      <th>2</th>\n",
       "      <td>Alimentos e bebidas básicos, destinados princi...</td>\n",
       "      <td>49.498.902.957</td>\n",
       "    </tr>\n",
       "    <tr>\n",
       "      <th>3</th>\n",
       "      <td>Combustíveis e lubrificantes básicos</td>\n",
       "      <td>30.645.519.420</td>\n",
       "    </tr>\n",
       "    <tr>\n",
       "      <th>4</th>\n",
       "      <td>Alimentos e bebidas elaborados, destinados pri...</td>\n",
       "      <td>23.389.418.204</td>\n",
       "    </tr>\n",
       "    <tr>\n",
       "      <th>5</th>\n",
       "      <td>Alimentos e bebidas elaborados, destinados pri...</td>\n",
       "      <td>13.110.361.937</td>\n",
       "    </tr>\n",
       "    <tr>\n",
       "      <th>6</th>\n",
       "      <td>Bens de capital (exceto equipamentos de transp...</td>\n",
       "      <td>7.608.629.214</td>\n",
       "    </tr>\n",
       "    <tr>\n",
       "      <th>7</th>\n",
       "      <td>Peças para equipamentos de transporte</td>\n",
       "      <td>7.484.078.757</td>\n",
       "    </tr>\n",
       "    <tr>\n",
       "      <th>8</th>\n",
       "      <td>Combustíveis e lubrificantes elaborados - exce...</td>\n",
       "      <td>6.323.433.758</td>\n",
       "    </tr>\n",
       "    <tr>\n",
       "      <th>9</th>\n",
       "      <td>Equipamentos de transporte industrial</td>\n",
       "      <td>4.943.286.559</td>\n",
       "    </tr>\n",
       "  </tbody>\n",
       "</table>\n",
       "</div>"
      ],
      "text/plain": [
       "                                          NO_CGCE_N3          VL_FOB\n",
       "0                     Insumos industriais elaborados  65.250.569.196\n",
       "1                        Insumos industriais básicos  56.913.749.770\n",
       "2  Alimentos e bebidas básicos, destinados princi...  49.498.902.957\n",
       "3               Combustíveis e lubrificantes básicos  30.645.519.420\n",
       "4  Alimentos e bebidas elaborados, destinados pri...  23.389.418.204\n",
       "5  Alimentos e bebidas elaborados, destinados pri...  13.110.361.937\n",
       "6  Bens de capital (exceto equipamentos de transp...   7.608.629.214\n",
       "7              Peças para equipamentos de transporte   7.484.078.757\n",
       "8  Combustíveis e lubrificantes elaborados - exce...   6.323.433.758\n",
       "9              Equipamentos de transporte industrial   4.943.286.559"
      ]
     },
     "execution_count": 16,
     "metadata": {},
     "output_type": "execute_result"
    }
   ],
   "source": [
    "pd.DataFrame(df_exportacoes[df_exportacoes['CO_ANO']==2021].groupby([\"NO_CGCE_N3\"]).VL_FOB.sum().sort_values(ascending=False).apply(lambda x: \"{:,}\".format(x).replace(',','.')).head(10).reset_index())"
   ]
  },
  {
   "cell_type": "code",
   "execution_count": 17,
   "metadata": {},
   "outputs": [
    {
     "data": {
      "image/png": "[encoded data removed]",
      "text/plain": [
       "<Figure size 720x360 with 1 Axes>"
      ]
     },
     "metadata": {
      "needs_background": "light"
     },
     "output_type": "display_data"
    }
   ],
   "source": [
    "df = df_exportacoes[df_exportacoes['CO_ANO']==2021].groupby([\"NO_CGCE_N3\"]).VL_FOB.sum().sort_values(ascending=False).head(10).reset_index()\n",
    "fig, ax = plt.subplots()\n",
    "ax.barh(df['NO_CGCE_N3'], df['VL_FOB'], align=\"center\", alpha=1)\n",
    "fig.set_size_inches(10,5)     # set a suitable size\n",
    "plt.subplots_adjust(right=0.75)\n",
    "plt.title('CGCE: AS dez maiores em 2021 - US$ FOB')\n",
    "plt.savefig('grafico/brasil_cat_eco.jpg', format='png');"
   ]
  },
  {
   "cell_type": "markdown",
   "metadata": {},
   "source": [
    "##### 2.1.1.3 Valor corrente (US$ FOB) por Destino das Exportações: As dez maires em 2021"
   ]
  },
  {
   "cell_type": "code",
   "execution_count": 18,
   "metadata": {},
   "outputs": [
    {
     "data": {
      "image/png": "[encoded data removed]",
      "text/plain": [
       "<Figure size 432x288 with 1 Axes>"
      ]
     },
     "metadata": {
      "needs_background": "light"
     },
     "output_type": "display_data"
    }
   ],
   "source": [
    "df_exportacoes[df_exportacoes['CO_ANO']==2021].groupby([\"NO_PAIS\"]).VL_FOB.sum().sort_values(ascending=False).head(10).plot(kind=\"barh\", color=\"red\")\n",
    "plt.title('Destino das Exportações em 2021')\n",
    "plt.savefig('grafico/brasil_pais.png', format='png');"
   ]
  },
  {
   "cell_type": "code",
   "execution_count": 19,
   "metadata": {},
   "outputs": [
    {
     "data": {
      "text/html": [
       "<div>\n",
       "<style scoped>\n",
       "    .dataframe tbody tr th:only-of-type {\n",
       "        vertical-align: middle;\n",
       "    }\n",
       "\n",
       "    .dataframe tbody tr th {\n",
       "        vertical-align: top;\n",
       "    }\n",
       "\n",
       "    .dataframe thead th {\n",
       "        text-align: right;\n",
       "    }\n",
       "</style>\n",
       "<table border=\"1\" class=\"dataframe\">\n",
       "  <thead>\n",
       "    <tr style=\"text-align: right;\">\n",
       "      <th></th>\n",
       "      <th>NO_PAIS</th>\n",
       "      <th>VL_FOB</th>\n",
       "    </tr>\n",
       "  </thead>\n",
       "  <tbody>\n",
       "    <tr>\n",
       "      <th>0</th>\n",
       "      <td>China</td>\n",
       "      <td>87.907.887.856</td>\n",
       "    </tr>\n",
       "    <tr>\n",
       "      <th>1</th>\n",
       "      <td>Estados Unidos</td>\n",
       "      <td>31.145.209.269</td>\n",
       "    </tr>\n",
       "    <tr>\n",
       "      <th>2</th>\n",
       "      <td>Argentina</td>\n",
       "      <td>11.878.463.042</td>\n",
       "    </tr>\n",
       "    <tr>\n",
       "      <th>3</th>\n",
       "      <td>Países Baixos (Holanda)</td>\n",
       "      <td>9.316.019.600</td>\n",
       "    </tr>\n",
       "    <tr>\n",
       "      <th>4</th>\n",
       "      <td>Chile</td>\n",
       "      <td>7.018.693.189</td>\n",
       "    </tr>\n",
       "    <tr>\n",
       "      <th>5</th>\n",
       "      <td>Singapura</td>\n",
       "      <td>5.820.713.782</td>\n",
       "    </tr>\n",
       "    <tr>\n",
       "      <th>6</th>\n",
       "      <td>Coreia do Sul</td>\n",
       "      <td>5.670.844.906</td>\n",
       "    </tr>\n",
       "    <tr>\n",
       "      <th>7</th>\n",
       "      <td>México</td>\n",
       "      <td>5.560.486.888</td>\n",
       "    </tr>\n",
       "    <tr>\n",
       "      <th>8</th>\n",
       "      <td>Japão</td>\n",
       "      <td>5.539.499.830</td>\n",
       "    </tr>\n",
       "    <tr>\n",
       "      <th>9</th>\n",
       "      <td>Espanha</td>\n",
       "      <td>5.433.174.458</td>\n",
       "    </tr>\n",
       "  </tbody>\n",
       "</table>\n",
       "</div>"
      ],
      "text/plain": [
       "                   NO_PAIS          VL_FOB\n",
       "0                    China  87.907.887.856\n",
       "1           Estados Unidos  31.145.209.269\n",
       "2                Argentina  11.878.463.042\n",
       "3  Países Baixos (Holanda)   9.316.019.600\n",
       "4                    Chile   7.018.693.189\n",
       "5                Singapura   5.820.713.782\n",
       "6            Coreia do Sul   5.670.844.906\n",
       "7                   México   5.560.486.888\n",
       "8                    Japão   5.539.499.830\n",
       "9                  Espanha   5.433.174.458"
      ]
     },
     "execution_count": 19,
     "metadata": {},
     "output_type": "execute_result"
    }
   ],
   "source": [
    "pd.DataFrame(df_exportacoes[df_exportacoes['CO_ANO']==2021].groupby([\"NO_PAIS\"]).VL_FOB.sum().sort_values(ascending=False).apply(lambda x: \"{:,}\".format(x).replace(',','.')).head(10).reset_index())"
   ]
  },
  {
   "cell_type": "markdown",
   "metadata": {},
   "source": [
    "#### 2.1.2 Exportações do Nordeste "
   ]
  },
  {
   "cell_type": "markdown",
   "metadata": {},
   "source": [
    "##### 2.1.2.1 Nordeste: Valor corrente (US$ FOB) para o período de 2012 a 2021   "
   ]
  },
  {
   "cell_type": "code",
   "execution_count": 20,
   "metadata": {},
   "outputs": [
    {
     "data": {
      "image/png": "[encoded data removed]",
      "text/plain": [
       "<Figure size 800x400 with 1 Axes>"
      ]
     },
     "metadata": {
      "needs_background": "light"
     },
     "output_type": "display_data"
    }
   ],
   "source": [
    "df_regiao = df_exportacoes[df_exportacoes['NO_REGIAO']=='REGIAO NORDESTE'].groupby([\"CO_ANO\"])['VL_FOB'].sum().reset_index()\n",
    "fig, ax = plt.subplots(figsize=(10,5), dpi=80)\n",
    "x = df_regiao['CO_ANO']\n",
    "y = df_regiao['VL_FOB']\n",
    "ax.bar(x, y, color='#1E90FF')\n",
    "plt.title('Exportações Nordeste: Valor corrente 2012 a 2021 - (US$ FOB)')\n",
    "plt.show()"
   ]
  },
  {
   "cell_type": "code",
   "execution_count": 21,
   "metadata": {},
   "outputs": [
    {
     "data": {
      "text/plain": [
       "CO_ANO\n",
       "2012    18314516799\n",
       "2013    15675713080\n",
       "2014    15839384474\n",
       "2015    14569811706\n",
       "2016    12765466969\n",
       "2017    16723894094\n",
       "2018    18715771028\n",
       "2019    16881283262\n",
       "2020    16149069199\n",
       "2021    21226303838\n",
       "Name: VL_FOB, dtype: int64"
      ]
     },
     "execution_count": 21,
     "metadata": {},
     "output_type": "execute_result"
    }
   ],
   "source": [
    "df_exportacoes[df_exportacoes['NO_REGIAO']=='REGIAO NORDESTE'].groupby([\"CO_ANO\"])['VL_FOB'].sum()"
   ]
  },
  {
   "cell_type": "markdown",
   "metadata": {},
   "source": []
  },
  {
   "cell_type": "markdown",
   "metadata": {},
   "source": [
    "##### 2.1.2.2 Nordeste: Destino da Exportações. Os dez maiores paises 2021"
   ]
  },
  {
   "cell_type": "code",
   "execution_count": 22,
   "metadata": {},
   "outputs": [
    {
     "data": {
      "image/png": "[encoded data removed]",
      "text/plain": [
       "<Figure size 432x288 with 1 Axes>"
      ]
     },
     "metadata": {
      "needs_background": "light"
     },
     "output_type": "display_data"
    }
   ],
   "source": [
    "df_exportacoes[(df_exportacoes['NO_REGIAO']=='REGIAO NORDESTE') & (df_exportacoes['CO_ANO']==2021)].groupby([\"NO_PAIS\"]).VL_FOB.sum().sort_values(ascending=False).head(10).plot(kind=\"barh\", color=\"red\")\n",
    "plt.title('Nordeste: Destino das exportações em 2021');"
   ]
  },
  {
   "cell_type": "code",
   "execution_count": 23,
   "metadata": {},
   "outputs": [
    {
     "data": {
      "text/plain": [
       "NO_PAIS\n",
       "China                      4.285.461.784\n",
       "Estados Unidos             3.538.825.784\n",
       "Singapura                  1.702.057.010\n",
       "Canadá                     1.425.444.090\n",
       "Argentina                  1.054.235.528\n",
       "Países Baixos (Holanda)      966.445.438\n",
       "Espanha                      653.406.650\n",
       "México                       598.102.121\n",
       "Coreia do Sul                572.160.559\n",
       "Alemanha                     448.028.588\n",
       "Name: VL_FOB, dtype: object"
      ]
     },
     "execution_count": 23,
     "metadata": {},
     "output_type": "execute_result"
    }
   ],
   "source": [
    "df_exportacoes[(df_exportacoes['NO_REGIAO']=='REGIAO NORDESTE') & (df_exportacoes['CO_ANO']==2021)].groupby([\"NO_PAIS\"]).VL_FOB.sum().sort_values(ascending=False).apply(lambda x: \"{:,}\".format(x).replace(',','.')).head(10)"
   ]
  },
  {
   "cell_type": "markdown",
   "metadata": {},
   "source": []
  },
  {
   "cell_type": "markdown",
   "metadata": {},
   "source": [
    "##### 2.1.2.2 Nordeste: Exportações por Grande Categoria Econômica. As dez maiores paises 2021"
   ]
  },
  {
   "cell_type": "code",
   "execution_count": 24,
   "metadata": {},
   "outputs": [
    {
     "data": {
      "image/png": "[encoded data removed]",
      "text/plain": [
       "<Figure size 432x288 with 1 Axes>"
      ]
     },
     "metadata": {
      "needs_background": "light"
     },
     "output_type": "display_data"
    }
   ],
   "source": [
    "df_exportacoes[(df_exportacoes['NO_REGIAO']=='REGIAO NORDESTE') & (df_exportacoes['CO_ANO']==2021)].groupby([\"NO_CGCE_N3\"]).VL_FOB.sum().sort_values(ascending=False).head(10).plot(kind=\"barh\", color=\"red\")\n",
    "plt.title('Nordeste: CGCE: AS dez maiores em 2021 - US$ FOB');"
   ]
  },
  {
   "cell_type": "code",
   "execution_count": 25,
   "metadata": {},
   "outputs": [
    {
     "data": {
      "text/html": [
       "<div>\n",
       "<style scoped>\n",
       "    .dataframe tbody tr th:only-of-type {\n",
       "        vertical-align: middle;\n",
       "    }\n",
       "\n",
       "    .dataframe tbody tr th {\n",
       "        vertical-align: top;\n",
       "    }\n",
       "\n",
       "    .dataframe thead th {\n",
       "        text-align: right;\n",
       "    }\n",
       "</style>\n",
       "<table border=\"1\" class=\"dataframe\">\n",
       "  <thead>\n",
       "    <tr style=\"text-align: right;\">\n",
       "      <th></th>\n",
       "      <th>NO_CGCE_N3</th>\n",
       "      <th>VL_FOB</th>\n",
       "    </tr>\n",
       "  </thead>\n",
       "  <tbody>\n",
       "    <tr>\n",
       "      <th>0</th>\n",
       "      <td>Insumos industriais elaborados</td>\n",
       "      <td>9.023.832.777</td>\n",
       "    </tr>\n",
       "    <tr>\n",
       "      <th>1</th>\n",
       "      <td>Alimentos e bebidas básicos, destinados princi...</td>\n",
       "      <td>4.201.161.518</td>\n",
       "    </tr>\n",
       "    <tr>\n",
       "      <th>2</th>\n",
       "      <td>Insumos industriais básicos</td>\n",
       "      <td>2.443.444.477</td>\n",
       "    </tr>\n",
       "    <tr>\n",
       "      <th>3</th>\n",
       "      <td>Combustíveis e lubrificantes elaborados - exce...</td>\n",
       "      <td>1.917.140.605</td>\n",
       "    </tr>\n",
       "    <tr>\n",
       "      <th>4</th>\n",
       "      <td>Alimentos e bebidas básicos, destinados princi...</td>\n",
       "      <td>1.062.984.391</td>\n",
       "    </tr>\n",
       "    <tr>\n",
       "      <th>5</th>\n",
       "      <td>Alimentos e bebidas elaborados, destinados pri...</td>\n",
       "      <td>766.427.620</td>\n",
       "    </tr>\n",
       "    <tr>\n",
       "      <th>6</th>\n",
       "      <td>Alimentos e bebidas elaborados, destinados pri...</td>\n",
       "      <td>450.573.128</td>\n",
       "    </tr>\n",
       "    <tr>\n",
       "      <th>7</th>\n",
       "      <td>Bens de consumo semiduráveis</td>\n",
       "      <td>326.049.532</td>\n",
       "    </tr>\n",
       "    <tr>\n",
       "      <th>8</th>\n",
       "      <td>Automóveis para passageiros</td>\n",
       "      <td>300.750.071</td>\n",
       "    </tr>\n",
       "    <tr>\n",
       "      <th>9</th>\n",
       "      <td>Peças e acessórios para bens de capital</td>\n",
       "      <td>280.215.730</td>\n",
       "    </tr>\n",
       "  </tbody>\n",
       "</table>\n",
       "</div>"
      ],
      "text/plain": [
       "                                          NO_CGCE_N3         VL_FOB\n",
       "0                     Insumos industriais elaborados  9.023.832.777\n",
       "1  Alimentos e bebidas básicos, destinados princi...  4.201.161.518\n",
       "2                        Insumos industriais básicos  2.443.444.477\n",
       "3  Combustíveis e lubrificantes elaborados - exce...  1.917.140.605\n",
       "4  Alimentos e bebidas básicos, destinados princi...  1.062.984.391\n",
       "5  Alimentos e bebidas elaborados, destinados pri...    766.427.620\n",
       "6  Alimentos e bebidas elaborados, destinados pri...    450.573.128\n",
       "7                       Bens de consumo semiduráveis    326.049.532\n",
       "8                        Automóveis para passageiros    300.750.071\n",
       "9            Peças e acessórios para bens de capital    280.215.730"
      ]
     },
     "execution_count": 25,
     "metadata": {},
     "output_type": "execute_result"
    }
   ],
   "source": [
    "df_exportacoes[(df_exportacoes['NO_REGIAO']=='REGIAO NORDESTE') & (df_exportacoes['CO_ANO']==2021)].groupby([\"NO_CGCE_N3\"]).VL_FOB.sum().sort_values(ascending=False).apply(lambda x: \"{:,}\".format(x).replace(',','.')).head(10).reset_index()"
   ]
  },
  {
   "cell_type": "markdown",
   "metadata": {},
   "source": []
  },
  {
   "cell_type": "markdown",
   "metadata": {},
   "source": [
    "#### 2.1.3 Exportações da Paraíba"
   ]
  },
  {
   "cell_type": "markdown",
   "metadata": {},
   "source": [
    "##### 2.1.3.1 Exportações: Valor corrente (US$ FOB) no período de 2012 a 2021 "
   ]
  },
  {
   "cell_type": "code",
   "execution_count": 26,
   "metadata": {},
   "outputs": [
    {
     "data": {
      "image/png": "[encoded data removed]",
      "text/plain": [
       "<Figure size 800x400 with 1 Axes>"
      ]
     },
     "metadata": {
      "needs_background": "light"
     },
     "output_type": "display_data"
    }
   ],
   "source": [
    "df_pb = exportacao = df_exportacoes[df_exportacoes['SG_UF']=='PB'].groupby(['CO_ANO'])['VL_FOB'].sum().reset_index()\n",
    "fig, ax = plt.subplots(figsize=(10,5), dpi=80)\n",
    "x = df_pb['CO_ANO']\n",
    "y = df_pb['VL_FOB']\n",
    "ax.bar(x, y, color='#1E90FF')\n",
    "plt.title('Exportações Paraíba: Valor corrente 2012 a 2021 - (US$ FOB)')\n",
    "plt.show()"
   ]
  },
  {
   "cell_type": "code",
   "execution_count": 27,
   "metadata": {},
   "outputs": [
    {
     "data": {
      "text/plain": [
       "CO_ANO\n",
       "2012    243087896\n",
       "2013    187635364\n",
       "2014    179078608\n",
       "2015    141363595\n",
       "2016    121465860\n",
       "2017    140722441\n",
       "2018    115552662\n",
       "2019    126300492\n",
       "2020    125273386\n",
       "2021    146642076\n",
       "Name: VL_FOB, dtype: int64"
      ]
     },
     "execution_count": 27,
     "metadata": {},
     "output_type": "execute_result"
    }
   ],
   "source": [
    "df_exportacoes[df_exportacoes['SG_UF']=='PB'].groupby(['CO_ANO'])['VL_FOB'].sum()"
   ]
  },
  {
   "cell_type": "markdown",
   "metadata": {},
   "source": [
    "##### 2.1.3.2 Destino das Exportações: Os dez maiores países em 2021"
   ]
  },
  {
   "cell_type": "code",
   "execution_count": 29,
   "metadata": {},
   "outputs": [
    {
     "data": {
      "image/png": "[encoded data removed]",
      "text/plain": [
       "<Figure size 432x288 with 1 Axes>"
      ]
     },
     "metadata": {
      "needs_background": "light"
     },
     "output_type": "display_data"
    }
   ],
   "source": [
    "df_exportacoes[(df_exportacoes['SG_UF']=='PB') & (df_exportacoes['CO_ANO']==2021)].groupby([\"NO_PAIS\"]).VL_FOB.sum().sort_values(ascending=False).head(10).plot(kind=\"barh\", color=\"red\")\n",
    "plt.title('Paraíba: Destino das exportações em 2021');"
   ]
  },
  {
   "cell_type": "code",
   "execution_count": 30,
   "metadata": {},
   "outputs": [
    {
     "data": {
      "text/plain": [
       "NO_PAIS\n",
       "Estados Unidos             25782628\n",
       "Países Baixos (Holanda)    13359645\n",
       "França                     12628198\n",
       "Bélgica                     8622593\n",
       "Argentina                   7867540\n",
       "China                       7082124\n",
       "Colômbia                    5791779\n",
       "Filipinas                   5342856\n",
       "Espanha                     5248637\n",
       "Austrália                   5146231\n",
       "Name: VL_FOB, dtype: int64"
      ]
     },
     "execution_count": 30,
     "metadata": {},
     "output_type": "execute_result"
    }
   ],
   "source": [
    "df_exportacoes[(df_exportacoes['SG_UF']=='PB') & (df_exportacoes['CO_ANO']==2021)].groupby([\"NO_PAIS\"]).VL_FOB.sum().sort_values(ascending=False).head(10)"
   ]
  },
  {
   "cell_type": "markdown",
   "metadata": {},
   "source": [
    "##### 2.1.3.2 Exportações por Grande Categoria Econômica: As cinco maiores em 2021"
   ]
  },
  {
   "cell_type": "code",
   "execution_count": 31,
   "metadata": {},
   "outputs": [
    {
     "data": {
      "image/png": "[encoded data removed]",
      "text/plain": [
       "<Figure size 432x288 with 1 Axes>"
      ]
     },
     "metadata": {
      "needs_background": "light"
     },
     "output_type": "display_data"
    }
   ],
   "source": [
    "df_exportacoes[(df_exportacoes['SG_UF']=='PB') & (df_exportacoes['CO_ANO']==2021)].groupby([\"NO_CGCE_N3\"]).VL_FOB.sum().sort_values(ascending=False).head(5).plot(kind=\"barh\", color=\"red\")\n",
    "plt.title('Paraíba: CGCE: AS cinco maiores em 2021 - US$ FOB');"
   ]
  },
  {
   "cell_type": "code",
   "execution_count": 32,
   "metadata": {},
   "outputs": [
    {
     "data": {
      "text/html": [
       "<div>\n",
       "<style scoped>\n",
       "    .dataframe tbody tr th:only-of-type {\n",
       "        vertical-align: middle;\n",
       "    }\n",
       "\n",
       "    .dataframe tbody tr th {\n",
       "        vertical-align: top;\n",
       "    }\n",
       "\n",
       "    .dataframe thead th {\n",
       "        text-align: right;\n",
       "    }\n",
       "</style>\n",
       "<table border=\"1\" class=\"dataframe\">\n",
       "  <thead>\n",
       "    <tr style=\"text-align: right;\">\n",
       "      <th></th>\n",
       "      <th>NO_CGCE_N3</th>\n",
       "      <th>VL_FOB</th>\n",
       "    </tr>\n",
       "  </thead>\n",
       "  <tbody>\n",
       "    <tr>\n",
       "      <th>0</th>\n",
       "      <td>Bens de consumo semiduráveis</td>\n",
       "      <td>57.987.899</td>\n",
       "    </tr>\n",
       "    <tr>\n",
       "      <th>1</th>\n",
       "      <td>Insumos industriais elaborados</td>\n",
       "      <td>28.216.970</td>\n",
       "    </tr>\n",
       "    <tr>\n",
       "      <th>2</th>\n",
       "      <td>Alimentos e bebidas elaborados, destinados pri...</td>\n",
       "      <td>18.133.040</td>\n",
       "    </tr>\n",
       "    <tr>\n",
       "      <th>3</th>\n",
       "      <td>Insumos industriais básicos</td>\n",
       "      <td>17.121.538</td>\n",
       "    </tr>\n",
       "    <tr>\n",
       "      <th>4</th>\n",
       "      <td>Alimentos e bebidas básicos, destinados princi...</td>\n",
       "      <td>13.530.232</td>\n",
       "    </tr>\n",
       "  </tbody>\n",
       "</table>\n",
       "</div>"
      ],
      "text/plain": [
       "                                          NO_CGCE_N3      VL_FOB\n",
       "0                       Bens de consumo semiduráveis  57.987.899\n",
       "1                     Insumos industriais elaborados  28.216.970\n",
       "2  Alimentos e bebidas elaborados, destinados pri...  18.133.040\n",
       "3                        Insumos industriais básicos  17.121.538\n",
       "4  Alimentos e bebidas básicos, destinados princi...  13.530.232"
      ]
     },
     "execution_count": 32,
     "metadata": {},
     "output_type": "execute_result"
    }
   ],
   "source": [
    "df_exportacoes[(df_exportacoes['SG_UF']=='PB') & (df_exportacoes['CO_ANO']==2021)].groupby([\"NO_CGCE_N3\"]).VL_FOB.sum().sort_values(ascending=False).apply(lambda x: \"{:,}\".format(x).replace(',','.')).head(5).reset_index()"
   ]
  },
  {
   "cell_type": "markdown",
   "metadata": {},
   "source": [
    "## 3 Importaçõs"
   ]
  },
  {
   "cell_type": "code",
   "execution_count": 33,
   "metadata": {},
   "outputs": [],
   "source": [
    "# criar o data frame\n",
    "from dados_localidade import importacoes\n",
    "\n",
    "df_importacoes = importacoes()"
   ]
  },
  {
   "cell_type": "code",
   "execution_count": 34,
   "metadata": {},
   "outputs": [],
   "source": [
    "# renomar a coluna SG_UF_NCM do data frame df_importacoes\n",
    "df_importacoes.rename(columns={'SG_UF_NCM':'SG_UF'}, inplace=True)"
   ]
  },
  {
   "cell_type": "code",
   "execution_count": 35,
   "metadata": {},
   "outputs": [],
   "source": [
    "# marge dos dataframes df_exportacoes_pais e estados \n",
    "df_importacoes = pd.merge(df_importacoes, dt_estados, on='SG_UF')"
   ]
  },
  {
   "cell_type": "code",
   "execution_count": 36,
   "metadata": {},
   "outputs": [],
   "source": [
    "# marge dos dataframes df_exportacoes_pais_regiao e  df_ncm_cat_econ\n",
    "df_importacoes = pd.merge(df_importacoes, df_cat_economica, on='CO_NCM')"
   ]
  },
  {
   "cell_type": "markdown",
   "metadata": {},
   "source": [
    "### Gráficos das Importações"
   ]
  },
  {
   "cell_type": "markdown",
   "metadata": {},
   "source": []
  },
  {
   "cell_type": "code",
   "execution_count": 37,
   "metadata": {},
   "outputs": [
    {
     "data": {
      "image/png": "[encoded data removed]",
      "text/plain": [
       "<Figure size 800x400 with 1 Axes>"
      ]
     },
     "metadata": {
      "needs_background": "light"
     },
     "output_type": "display_data"
    }
   ],
   "source": [
    "imp_brasil = df_importacoes.groupby([\"CO_ANO\"])['VL_FOB'].sum().reset_index()\n",
    "fig, ax = plt.subplots(figsize=(10,5), dpi=80)\n",
    "x = imp_brasil['CO_ANO']\n",
    "y = imp_brasil['VL_FOB']\n",
    "ax.bar(x, y, color='#1E90FF')\n",
    "plt.title('Imprtações Brasil: Valor corrente (US$ FOB)')\n",
    "plt.show()"
   ]
  },
  {
   "cell_type": "code",
   "execution_count": 38,
   "metadata": {},
   "outputs": [
    {
     "data": {
      "text/plain": [
       "CO_ANO\n",
       "2012    225.166.178.896\n",
       "2013    241.499.540.535\n",
       "2014    230.822.112.747\n",
       "2015    173.103.890.707\n",
       "2016    139.321.127.677\n",
       "2017    158.951.154.720\n",
       "2018    185.321.010.194\n",
       "2019    185.927.939.061\n",
       "2020    158.786.655.818\n",
       "2021    219.407.802.397\n",
       "Name: VL_FOB, dtype: object"
      ]
     },
     "execution_count": 38,
     "metadata": {},
     "output_type": "execute_result"
    }
   ],
   "source": [
    "df_importacoes.groupby([\"CO_ANO\"])['VL_FOB'].sum().apply(lambda x: \"{:,}\".format(x).replace(',','.'))"
   ]
  },
  {
   "cell_type": "code",
   "execution_count": null,
   "metadata": {},
   "outputs": [],
   "source": []
  }
 ],
 "metadata": {
  "interpreter": {
   "hash": "d4af91c74f8a60bb2f5e1db306bb9034da4b6ed6d7d4dd759635e89259b1fca4"
  },
  "kernelspec": {
   "display_name": "Python 3.8.10 ('base')",
   "language": "python",
   "name": "python3"
  },
  "language_info": {
   "codemirror_mode": {
    "name": "ipython",
    "version": 3
   },
   "file_extension": ".py",
   "mimetype": "text/x-python",
   "name": "python",
   "nbconvert_exporter": "python",
   "pygments_lexer": "ipython3",
   "version": "3.8.10"
  },
  "orig_nbformat": 4
 },
 "nbformat": 4,
 "nbformat_minor": 2
}
